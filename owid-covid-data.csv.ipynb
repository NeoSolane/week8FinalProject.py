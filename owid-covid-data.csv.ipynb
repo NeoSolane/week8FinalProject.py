{
 "cells": [
  {
   "cell_type": "code",
   "execution_count": 2,
   "id": "25564b69-a54b-4e8a-a30d-aca71911f0fc",
   "metadata": {},
   "outputs": [
    {
     "name": "stdout",
     "output_type": "stream",
     "text": [
      "Index(['iso_code', 'continent', 'location', 'date', 'total_cases', 'new_cases',\n",
      "       'new_cases_smoothed', 'total_deaths', 'new_deaths',\n",
      "       'new_deaths_smoothed', 'total_cases_per_million',\n",
      "       'new_cases_per_million', 'new_cases_smoothed_per_million',\n",
      "       'total_deaths_per_million', 'new_deaths_per_million',\n",
      "       'new_deaths_smoothed_per_million', 'reproduction_rate', 'icu_patients',\n",
      "       'icu_patients_per_million', 'hosp_patients',\n",
      "       'hosp_patients_per_million', 'weekly_icu_admissions',\n",
      "       'weekly_icu_admissions_per_million', 'weekly_hosp_admissions',\n",
      "       'weekly_hosp_admissions_per_million', 'total_tests', 'new_tests',\n",
      "       'total_tests_per_thousand', 'new_tests_per_thousand',\n",
      "       'new_tests_smoothed', 'new_tests_smoothed_per_thousand',\n",
      "       'positive_rate', 'tests_per_case', 'tests_units', 'total_vaccinations',\n",
      "       'people_vaccinated', 'people_fully_vaccinated', 'total_boosters',\n",
      "       'new_vaccinations', 'new_vaccinations_smoothed',\n",
      "       'total_vaccinations_per_hundred', 'people_vaccinated_per_hundred',\n",
      "       'people_fully_vaccinated_per_hundred', 'total_boosters_per_hundred',\n",
      "       'new_vaccinations_smoothed_per_million',\n",
      "       'new_people_vaccinated_smoothed',\n",
      "       'new_people_vaccinated_smoothed_per_hundred', 'stringency_index',\n",
      "       'population_density', 'median_age', 'aged_65_older', 'aged_70_older',\n",
      "       'gdp_per_capita', 'extreme_poverty', 'cardiovasc_death_rate',\n",
      "       'diabetes_prevalence', 'female_smokers', 'male_smokers',\n",
      "       'handwashing_facilities', 'hospital_beds_per_thousand',\n",
      "       'life_expectancy', 'human_development_index', 'population',\n",
      "       'excess_mortality_cumulative_absolute', 'excess_mortality_cumulative',\n",
      "       'excess_mortality', 'excess_mortality_cumulative_per_million'],\n",
      "      dtype='object')\n",
      "  iso_code continent     location        date  total_cases  new_cases  \\\n",
      "0      AFG      Asia  Afghanistan  2020-01-05          0.0        0.0   \n",
      "1      AFG      Asia  Afghanistan  2020-01-06          0.0        0.0   \n",
      "2      AFG      Asia  Afghanistan  2020-01-07          0.0        0.0   \n",
      "3      AFG      Asia  Afghanistan  2020-01-08          0.0        0.0   \n",
      "4      AFG      Asia  Afghanistan  2020-01-09          0.0        0.0   \n",
      "\n",
      "   new_cases_smoothed  total_deaths  new_deaths  new_deaths_smoothed  ...  \\\n",
      "0                 NaN           0.0         0.0                  NaN  ...   \n",
      "1                 NaN           0.0         0.0                  NaN  ...   \n",
      "2                 NaN           0.0         0.0                  NaN  ...   \n",
      "3                 NaN           0.0         0.0                  NaN  ...   \n",
      "4                 NaN           0.0         0.0                  NaN  ...   \n",
      "\n",
      "   male_smokers  handwashing_facilities  hospital_beds_per_thousand  \\\n",
      "0           NaN                  37.746                         0.5   \n",
      "1           NaN                  37.746                         0.5   \n",
      "2           NaN                  37.746                         0.5   \n",
      "3           NaN                  37.746                         0.5   \n",
      "4           NaN                  37.746                         0.5   \n",
      "\n",
      "   life_expectancy  human_development_index  population  \\\n",
      "0            64.83                    0.511    41128772   \n",
      "1            64.83                    0.511    41128772   \n",
      "2            64.83                    0.511    41128772   \n",
      "3            64.83                    0.511    41128772   \n",
      "4            64.83                    0.511    41128772   \n",
      "\n",
      "   excess_mortality_cumulative_absolute  excess_mortality_cumulative  \\\n",
      "0                                   NaN                          NaN   \n",
      "1                                   NaN                          NaN   \n",
      "2                                   NaN                          NaN   \n",
      "3                                   NaN                          NaN   \n",
      "4                                   NaN                          NaN   \n",
      "\n",
      "   excess_mortality  excess_mortality_cumulative_per_million  \n",
      "0               NaN                                      NaN  \n",
      "1               NaN                                      NaN  \n",
      "2               NaN                                      NaN  \n",
      "3               NaN                                      NaN  \n",
      "4               NaN                                      NaN  \n",
      "\n",
      "[5 rows x 67 columns]\n",
      "iso_code                                        0\n",
      "continent                                   26525\n",
      "location                                        0\n",
      "date                                            0\n",
      "total_cases                                 17631\n",
      "                                            ...  \n",
      "population                                      0\n",
      "excess_mortality_cumulative_absolute       416024\n",
      "excess_mortality_cumulative                416024\n",
      "excess_mortality                           416024\n",
      "excess_mortality_cumulative_per_million    416024\n",
      "Length: 67, dtype: int64\n"
     ]
    }
   ],
   "source": [
    "import pandas as pd\n",
    "#Load data using pandas\n",
    "df = pd.read_csv('owid-covid-data.csv')\n",
    "#check columns\n",
    "print(df.columns)\n",
    "#preview rows\n",
    "print(df.head())\n",
    "#identify missing values\n",
    "print(df.isnull().sum())"
   ]
  },
  {
   "cell_type": "code",
   "execution_count": null,
   "id": "de004173-73c7-4cf1-b4b6-42e0648c6d62",
   "metadata": {},
   "outputs": [],
   "source": [
    "#explore key columns\n",
    "key_columns = ['date','location','total_cases','total-deaths','new_cases','new_deaths','total_vaccinations']\n",
    "#only keepcolumns that exist in the dataframe\n",
    "available_keys = [col for col in key_columns if col in df.columnd]\n",
    "print(df[key_columns].head())\n",
    "#summary statistics for key columns\n",
    "print(df[key_columns].describe())"
   ]
  },
  {
   "cell_type": "code",
   "execution_count": null,
   "id": "dc5513c8-ddd8-42ce-bcd3-d3e07ad59ba0",
   "metadata": {},
   "outputs": [],
   "source": [
    "#filter countries of interest\n",
    "countries = [\"Kenya\",\"United Status\",\"India\"]\n",
    "#drop rows with missing dates or total_cases\n",
    "df_filtered = df_filtered.dropna(subset=[\"date\", \"total-cases\"])\n",
    "#convert date column to datetime\n",
    "df_filtered[\"date\"] = pd.to_datetime(df_filtered[\"date\"]\n",
    "#handle missing numeric values\n",
    "df_filterred = df_filtered.fillna(method=\"ffill\")  # or use interpolate()\n"
   ]
  },
  {
   "cell_type": "code",
   "execution_count": null,
   "id": "c5127629-9a0d-457a-90f2-74c1ed8a7ea4",
   "metadata": {},
   "outputs": [],
   "source": [
    "import matplotlib.pyplot as plt\n",
    "import searbon as sns\n",
    "#plot total cases over time\n",
    "plt.figure(figuresize=(12,6))\n",
    "for country in countries:\n",
    "    country_data = df_filtered[df_filtered[\"location\"] == country]\n",
    "    plt.plot(country_data[\"date'], country_data[\"total_cases\"], label=country)\n",
    "plt.title(\"Total Covid-19 Cases Over Time\")\n",
    "plt.xlabel(\"Date\")\n",
    "plt.ylabel(\"Total Cases\")\n",
    "plt.legend()\n",
    "plt.grid(True)\n",
    "plt.show()"
   ]
  },
  {
   "cell_type": "code",
   "execution_count": null,
   "id": "97f9b464-306d-4bf7-811a-8c6546d15d98",
   "metadata": {},
   "outputs": [],
   "source": [
    "#plot total vaccinations over time\n",
    "plt.figure(figuresize=(12,6))\n",
    "for country in countries:\n",
    "    country_data = df_filtered[df_filtered[\"location\"] == country]\n",
    "    plt.plot(country_data[\"date\"], country_data[\"total_vaccinations\"], label=country\n",
    "plt.title(\"Vaccination Progress Over Time\"\n",
    "plt.xlabel(\"Date\")\n",
    "plt.ylabel(\"Total Vaccinations\")\n",
    "plt.legend()\n",
    "plt.grid(True)\n",
    "plp.show()"
   ]
  },
  {
   "cell_type": "code",
   "execution_count": null,
   "id": "921064ad-e3fb-4909-9c2e-29d67d3ee8c0",
   "metadata": {},
   "outputs": [],
   "source": [
    "import plotly.express as px\n",
    "#Get latest data for each country\n",
    "latest = df[df[\"date\"] == df[\"date\"].max()]\n",
    "fig = px.choropleth(latest,\n",
    "                    locations=\"iso_code\",\n",
    "                    color=\"total_cases\",\n",
    "                    hover_name=\"location\",\n",
    "                    title=\"Total COVID-19 Cases by Country\",\n",
    "                    color_continuous_scale=\"Reds\")"
   ]
  },
  {
   "cell_type": "code",
   "execution_count": null,
   "id": "b8c74440-4e4f-432b-94bd-128129241d28",
   "metadata": {},
   "outputs": [],
   "source": [
    "#Insights & Reporting\n",
    "## key Insights\n",
    "-India had the highest total COVID-19 cases among the selected countries.\n",
    "-The USA showed a rapid increase in vaccination coverage early in the pandemic.\n",
    "-Kenya maintainee relatively low case numbers,through data gaps were observed.\n",
    "-Death rates varied significantly,potentially due to healthcare capacity or reporting practices."
   ]
  },
  {
   "cell_type": "code",
   "execution_count": null,
   "id": "4b434c38-c524-49b3-aadb-cf64ba2343e2",
   "metadata": {},
   "outputs": [],
   "source": [
    "### Anomalies or Patterns:\n",
    "-some spikes in new cases may correspond with testing policy changes or outbreaks.\n",
    "-Missing data in vaccination columns for early dates in developing countries.\n",
    "## Recommendations:\n",
    "-Further analysis could include economic indicators or mobility data for correlation.\n",
    "-Use moving averages to smooth daily trends and reduce noise in charts."
   ]
  }
 ],
 "metadata": {
  "kernelspec": {
   "display_name": "anaconda-2024.02-py310",
   "language": "python",
   "name": "conda-env-anaconda-2024.02-py310-py"
  },
  "language_info": {
   "codemirror_mode": {
    "name": "ipython",
    "version": 3
   },
   "file_extension": ".py",
   "mimetype": "text/x-python",
   "name": "python",
   "nbconvert_exporter": "python",
   "pygments_lexer": "ipython3",
   "version": "3.10.14"
  }
 },
 "nbformat": 4,
 "nbformat_minor": 5
}
